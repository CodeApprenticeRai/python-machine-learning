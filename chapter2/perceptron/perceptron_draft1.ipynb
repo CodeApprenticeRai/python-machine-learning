{
 "cells": [
  {
   "cell_type": "code",
   "execution_count": 1,
   "id": "304fa135",
   "metadata": {},
   "outputs": [],
   "source": [
    "import pandas as pd\n",
    "\n",
    "df = pd.read_csv(\"https://archive.ics.uci.edu/ml/machine-learning-databases/iris/iris.data\",\n",
    "                 header=None\n",
    ")"
   ]
  },
  {
   "cell_type": "code",
   "execution_count": 2,
   "id": "360f0a3d",
   "metadata": {
    "scrolled": true
   },
   "outputs": [
    {
     "data": {
      "text/html": [
       "<div>\n",
       "<style scoped>\n",
       "    .dataframe tbody tr th:only-of-type {\n",
       "        vertical-align: middle;\n",
       "    }\n",
       "\n",
       "    .dataframe tbody tr th {\n",
       "        vertical-align: top;\n",
       "    }\n",
       "\n",
       "    .dataframe thead th {\n",
       "        text-align: right;\n",
       "    }\n",
       "</style>\n",
       "<table border=\"1\" class=\"dataframe\">\n",
       "  <thead>\n",
       "    <tr style=\"text-align: right;\">\n",
       "      <th></th>\n",
       "      <th>0</th>\n",
       "      <th>1</th>\n",
       "      <th>2</th>\n",
       "      <th>3</th>\n",
       "      <th>4</th>\n",
       "    </tr>\n",
       "  </thead>\n",
       "  <tbody>\n",
       "    <tr>\n",
       "      <th>0</th>\n",
       "      <td>5.1</td>\n",
       "      <td>3.5</td>\n",
       "      <td>1.4</td>\n",
       "      <td>0.2</td>\n",
       "      <td>Iris-setosa</td>\n",
       "    </tr>\n",
       "    <tr>\n",
       "      <th>1</th>\n",
       "      <td>4.9</td>\n",
       "      <td>3.0</td>\n",
       "      <td>1.4</td>\n",
       "      <td>0.2</td>\n",
       "      <td>Iris-setosa</td>\n",
       "    </tr>\n",
       "    <tr>\n",
       "      <th>2</th>\n",
       "      <td>4.7</td>\n",
       "      <td>3.2</td>\n",
       "      <td>1.3</td>\n",
       "      <td>0.2</td>\n",
       "      <td>Iris-setosa</td>\n",
       "    </tr>\n",
       "    <tr>\n",
       "      <th>3</th>\n",
       "      <td>4.6</td>\n",
       "      <td>3.1</td>\n",
       "      <td>1.5</td>\n",
       "      <td>0.2</td>\n",
       "      <td>Iris-setosa</td>\n",
       "    </tr>\n",
       "    <tr>\n",
       "      <th>4</th>\n",
       "      <td>5.0</td>\n",
       "      <td>3.6</td>\n",
       "      <td>1.4</td>\n",
       "      <td>0.2</td>\n",
       "      <td>Iris-setosa</td>\n",
       "    </tr>\n",
       "    <tr>\n",
       "      <th>...</th>\n",
       "      <td>...</td>\n",
       "      <td>...</td>\n",
       "      <td>...</td>\n",
       "      <td>...</td>\n",
       "      <td>...</td>\n",
       "    </tr>\n",
       "    <tr>\n",
       "      <th>145</th>\n",
       "      <td>6.7</td>\n",
       "      <td>3.0</td>\n",
       "      <td>5.2</td>\n",
       "      <td>2.3</td>\n",
       "      <td>Iris-virginica</td>\n",
       "    </tr>\n",
       "    <tr>\n",
       "      <th>146</th>\n",
       "      <td>6.3</td>\n",
       "      <td>2.5</td>\n",
       "      <td>5.0</td>\n",
       "      <td>1.9</td>\n",
       "      <td>Iris-virginica</td>\n",
       "    </tr>\n",
       "    <tr>\n",
       "      <th>147</th>\n",
       "      <td>6.5</td>\n",
       "      <td>3.0</td>\n",
       "      <td>5.2</td>\n",
       "      <td>2.0</td>\n",
       "      <td>Iris-virginica</td>\n",
       "    </tr>\n",
       "    <tr>\n",
       "      <th>148</th>\n",
       "      <td>6.2</td>\n",
       "      <td>3.4</td>\n",
       "      <td>5.4</td>\n",
       "      <td>2.3</td>\n",
       "      <td>Iris-virginica</td>\n",
       "    </tr>\n",
       "    <tr>\n",
       "      <th>149</th>\n",
       "      <td>5.9</td>\n",
       "      <td>3.0</td>\n",
       "      <td>5.1</td>\n",
       "      <td>1.8</td>\n",
       "      <td>Iris-virginica</td>\n",
       "    </tr>\n",
       "  </tbody>\n",
       "</table>\n",
       "<p>150 rows × 5 columns</p>\n",
       "</div>"
      ],
      "text/plain": [
       "       0    1    2    3               4\n",
       "0    5.1  3.5  1.4  0.2     Iris-setosa\n",
       "1    4.9  3.0  1.4  0.2     Iris-setosa\n",
       "2    4.7  3.2  1.3  0.2     Iris-setosa\n",
       "3    4.6  3.1  1.5  0.2     Iris-setosa\n",
       "4    5.0  3.6  1.4  0.2     Iris-setosa\n",
       "..   ...  ...  ...  ...             ...\n",
       "145  6.7  3.0  5.2  2.3  Iris-virginica\n",
       "146  6.3  2.5  5.0  1.9  Iris-virginica\n",
       "147  6.5  3.0  5.2  2.0  Iris-virginica\n",
       "148  6.2  3.4  5.4  2.3  Iris-virginica\n",
       "149  5.9  3.0  5.1  1.8  Iris-virginica\n",
       "\n",
       "[150 rows x 5 columns]"
      ]
     },
     "execution_count": 2,
     "metadata": {},
     "output_type": "execute_result"
    }
   ],
   "source": [
    "df"
   ]
  },
  {
   "cell_type": "code",
   "execution_count": 3,
   "id": "2655957d",
   "metadata": {
    "scrolled": true
   },
   "outputs": [
    {
     "data": {
      "text/plain": [
       "array([[ 5.1,  1.4, -1. ],\n",
       "       [ 4.9,  1.4, -1. ],\n",
       "       [ 4.7,  1.3, -1. ],\n",
       "       [ 4.6,  1.5, -1. ],\n",
       "       [ 5. ,  1.4, -1. ],\n",
       "       [ 5.4,  1.7, -1. ],\n",
       "       [ 4.6,  1.4, -1. ],\n",
       "       [ 5. ,  1.5, -1. ],\n",
       "       [ 4.4,  1.4, -1. ],\n",
       "       [ 4.9,  1.5, -1. ],\n",
       "       [ 5.4,  1.5, -1. ],\n",
       "       [ 4.8,  1.6, -1. ],\n",
       "       [ 4.8,  1.4, -1. ],\n",
       "       [ 4.3,  1.1, -1. ],\n",
       "       [ 5.8,  1.2, -1. ],\n",
       "       [ 5.7,  1.5, -1. ],\n",
       "       [ 5.4,  1.3, -1. ],\n",
       "       [ 5.1,  1.4, -1. ],\n",
       "       [ 5.7,  1.7, -1. ],\n",
       "       [ 5.1,  1.5, -1. ],\n",
       "       [ 5.4,  1.7, -1. ],\n",
       "       [ 5.1,  1.5, -1. ],\n",
       "       [ 4.6,  1. , -1. ],\n",
       "       [ 5.1,  1.7, -1. ],\n",
       "       [ 4.8,  1.9, -1. ],\n",
       "       [ 5. ,  1.6, -1. ],\n",
       "       [ 5. ,  1.6, -1. ],\n",
       "       [ 5.2,  1.5, -1. ],\n",
       "       [ 5.2,  1.4, -1. ],\n",
       "       [ 4.7,  1.6, -1. ],\n",
       "       [ 4.8,  1.6, -1. ],\n",
       "       [ 5.4,  1.5, -1. ],\n",
       "       [ 5.2,  1.5, -1. ],\n",
       "       [ 5.5,  1.4, -1. ],\n",
       "       [ 4.9,  1.5, -1. ],\n",
       "       [ 5. ,  1.2, -1. ],\n",
       "       [ 5.5,  1.3, -1. ],\n",
       "       [ 4.9,  1.5, -1. ],\n",
       "       [ 4.4,  1.3, -1. ],\n",
       "       [ 5.1,  1.5, -1. ],\n",
       "       [ 5. ,  1.3, -1. ],\n",
       "       [ 4.5,  1.3, -1. ],\n",
       "       [ 4.4,  1.3, -1. ],\n",
       "       [ 5. ,  1.6, -1. ],\n",
       "       [ 5.1,  1.9, -1. ],\n",
       "       [ 4.8,  1.4, -1. ],\n",
       "       [ 5.1,  1.6, -1. ],\n",
       "       [ 4.6,  1.4, -1. ],\n",
       "       [ 5.3,  1.5, -1. ],\n",
       "       [ 5. ,  1.4, -1. ],\n",
       "       [ 7. ,  4.7,  1. ],\n",
       "       [ 6.4,  4.5,  1. ],\n",
       "       [ 6.9,  4.9,  1. ],\n",
       "       [ 5.5,  4. ,  1. ],\n",
       "       [ 6.5,  4.6,  1. ],\n",
       "       [ 5.7,  4.5,  1. ],\n",
       "       [ 6.3,  4.7,  1. ],\n",
       "       [ 4.9,  3.3,  1. ],\n",
       "       [ 6.6,  4.6,  1. ],\n",
       "       [ 5.2,  3.9,  1. ],\n",
       "       [ 5. ,  3.5,  1. ],\n",
       "       [ 5.9,  4.2,  1. ],\n",
       "       [ 6. ,  4. ,  1. ],\n",
       "       [ 6.1,  4.7,  1. ],\n",
       "       [ 5.6,  3.6,  1. ],\n",
       "       [ 6.7,  4.4,  1. ],\n",
       "       [ 5.6,  4.5,  1. ],\n",
       "       [ 5.8,  4.1,  1. ],\n",
       "       [ 6.2,  4.5,  1. ],\n",
       "       [ 5.6,  3.9,  1. ],\n",
       "       [ 5.9,  4.8,  1. ],\n",
       "       [ 6.1,  4. ,  1. ],\n",
       "       [ 6.3,  4.9,  1. ],\n",
       "       [ 6.1,  4.7,  1. ],\n",
       "       [ 6.4,  4.3,  1. ],\n",
       "       [ 6.6,  4.4,  1. ],\n",
       "       [ 6.8,  4.8,  1. ],\n",
       "       [ 6.7,  5. ,  1. ],\n",
       "       [ 6. ,  4.5,  1. ],\n",
       "       [ 5.7,  3.5,  1. ],\n",
       "       [ 5.5,  3.8,  1. ],\n",
       "       [ 5.5,  3.7,  1. ],\n",
       "       [ 5.8,  3.9,  1. ],\n",
       "       [ 6. ,  5.1,  1. ],\n",
       "       [ 5.4,  4.5,  1. ],\n",
       "       [ 6. ,  4.5,  1. ],\n",
       "       [ 6.7,  4.7,  1. ],\n",
       "       [ 6.3,  4.4,  1. ],\n",
       "       [ 5.6,  4.1,  1. ],\n",
       "       [ 5.5,  4. ,  1. ],\n",
       "       [ 5.5,  4.4,  1. ],\n",
       "       [ 6.1,  4.6,  1. ],\n",
       "       [ 5.8,  4. ,  1. ],\n",
       "       [ 5. ,  3.3,  1. ],\n",
       "       [ 5.6,  4.2,  1. ],\n",
       "       [ 5.7,  4.2,  1. ],\n",
       "       [ 5.7,  4.2,  1. ],\n",
       "       [ 6.2,  4.3,  1. ],\n",
       "       [ 5.1,  3. ,  1. ],\n",
       "       [ 5.7,  4.1,  1. ]])"
      ]
     },
     "execution_count": 3,
     "metadata": {},
     "output_type": "execute_result"
    }
   ],
   "source": [
    "import matplotlib.pyplot as plt\n",
    "import numpy as np\n",
    "\n",
    "def standardize_labels(s): \n",
    "    if (s == 'Iris-setosa'):\n",
    "        return -1\n",
    "    else:\n",
    "        return 1\n",
    "\n",
    "_D = df.iloc[0:100, [0, 2, 4]]\n",
    "_D[4] = _D[4].map(standardize_labels)\n",
    "D =_D.values\n",
    "D"
   ]
  },
  {
   "cell_type": "code",
   "execution_count": null,
   "id": "ca752d41",
   "metadata": {},
   "outputs": [],
   "source": [
    "'''\n",
    "Decided to use all \n",
    "the data\n",
    "'''\n",
    "\n"
   ]
  },
  {
   "cell_type": "code",
   "execution_count": 5,
   "id": "03a396c7",
   "metadata": {},
   "outputs": [],
   "source": [
    "def create_test_train_partition(D, train_percentage=0.7):\n",
    "    '''\n",
    "    Parameters\n",
    "    ------------\n",
    "    D : [array-like], shape = [n_samples, n_features + 1]\n",
    "        where n_samples is the number of samples and \n",
    "        n_features is the number of features.\n",
    "        D[i] = [...X, y ], where X is an input vector\n",
    "        and y is its corresponding label. \n",
    "\n",
    "    train_percentage: float\n",
    "        percentage of D that comprises the train\n",
    "        part of the train-test partition.\n",
    "        0 <= train_percentage <= 1\n",
    "        \n",
    "    Returns \n",
    "    -------\n",
    "    D_train: [array-like], \n",
    "             shape = [int(n_samples * train_percentage), n_features + 1]\n",
    "    D_test:  [array-like], \n",
    "             shape = [n_samples - int(n_samples * train_percentage), n_features + 1]\n",
    "    '''\n",
    "    D_copy = D[:]\n",
    "    np.random.shuffle(D_copy)\n",
    "    split_index = int(train_percentage * len(D))\n",
    "    D_train = D_copy[:split_index]\n",
    "    D_test = D_copy[split_index:]\n",
    "    return D_train, D_test\n",
    "\n"
   ]
  },
  {
   "cell_type": "code",
   "execution_count": 6,
   "id": "0d0596bb",
   "metadata": {},
   "outputs": [
    {
     "data": {
      "text/plain": [
       "(70, 30)"
      ]
     },
     "execution_count": 6,
     "metadata": {},
     "output_type": "execute_result"
    }
   ],
   "source": [
    "D_train, D_test = create_test_train_partition(D)\n",
    "\n",
    "len(D_train), len(D_test)"
   ]
  },
  {
   "cell_type": "code",
   "execution_count": 7,
   "id": "d24a1719",
   "metadata": {
    "scrolled": true
   },
   "outputs": [
    {
     "data": {
      "text/plain": [
       "array([[ 4.9,  1.4, -1. ],\n",
       "       [ 6.5,  4.6,  1. ],\n",
       "       [ 5.4,  1.3, -1. ],\n",
       "       [ 5.1,  1.5, -1. ],\n",
       "       [ 6.8,  4.8,  1. ],\n",
       "       [ 4.9,  1.5, -1. ],\n",
       "       [ 7. ,  4.7,  1. ],\n",
       "       [ 5.1,  1.4, -1. ],\n",
       "       [ 6.1,  4.7,  1. ],\n",
       "       [ 4.8,  1.6, -1. ],\n",
       "       [ 6.9,  4.9,  1. ],\n",
       "       [ 5. ,  1.6, -1. ],\n",
       "       [ 5.3,  1.5, -1. ],\n",
       "       [ 6.2,  4.3,  1. ],\n",
       "       [ 5.2,  3.9,  1. ],\n",
       "       [ 5.1,  3. ,  1. ],\n",
       "       [ 6. ,  4.5,  1. ],\n",
       "       [ 6.4,  4.3,  1. ],\n",
       "       [ 4.3,  1.1, -1. ],\n",
       "       [ 5.7,  4.5,  1. ],\n",
       "       [ 5.8,  4. ,  1. ],\n",
       "       [ 4.7,  1.3, -1. ],\n",
       "       [ 5.4,  1.5, -1. ],\n",
       "       [ 6. ,  5.1,  1. ],\n",
       "       [ 5.2,  1.4, -1. ],\n",
       "       [ 6. ,  4.5,  1. ],\n",
       "       [ 5.6,  3.6,  1. ],\n",
       "       [ 5.7,  1.5, -1. ],\n",
       "       [ 5.6,  4.5,  1. ],\n",
       "       [ 5. ,  1.3, -1. ],\n",
       "       [ 6.3,  4.9,  1. ],\n",
       "       [ 5.1,  1.6, -1. ],\n",
       "       [ 5.5,  3.7,  1. ],\n",
       "       [ 6.1,  4.6,  1. ],\n",
       "       [ 5. ,  1.6, -1. ],\n",
       "       [ 5.4,  1.7, -1. ],\n",
       "       [ 5.5,  4.4,  1. ],\n",
       "       [ 5.7,  1.7, -1. ],\n",
       "       [ 5.6,  4.2,  1. ],\n",
       "       [ 4.6,  1.5, -1. ],\n",
       "       [ 5.1,  1.4, -1. ],\n",
       "       [ 5. ,  3.3,  1. ],\n",
       "       [ 4.6,  1. , -1. ],\n",
       "       [ 5.8,  3.9,  1. ],\n",
       "       [ 5.7,  4.1,  1. ],\n",
       "       [ 4.5,  1.3, -1. ],\n",
       "       [ 4.4,  1.3, -1. ],\n",
       "       [ 5. ,  1.4, -1. ],\n",
       "       [ 6.1,  4. ,  1. ],\n",
       "       [ 5.7,  4.2,  1. ],\n",
       "       [ 5.2,  1.5, -1. ],\n",
       "       [ 5.5,  1.3, -1. ],\n",
       "       [ 5.5,  3.8,  1. ],\n",
       "       [ 6.6,  4.4,  1. ],\n",
       "       [ 4.4,  1.4, -1. ],\n",
       "       [ 6.7,  4.7,  1. ],\n",
       "       [ 5. ,  1.2, -1. ],\n",
       "       [ 5.9,  4.2,  1. ],\n",
       "       [ 5.8,  4.1,  1. ],\n",
       "       [ 4.9,  1.5, -1. ],\n",
       "       [ 5.4,  1.7, -1. ],\n",
       "       [ 5.6,  3.9,  1. ],\n",
       "       [ 5.2,  1.5, -1. ],\n",
       "       [ 5.7,  3.5,  1. ],\n",
       "       [ 4.4,  1.3, -1. ],\n",
       "       [ 4.8,  1.4, -1. ],\n",
       "       [ 5.4,  4.5,  1. ],\n",
       "       [ 5.1,  1.7, -1. ],\n",
       "       [ 6.4,  4.5,  1. ],\n",
       "       [ 4.7,  1.6, -1. ]])"
      ]
     },
     "execution_count": 7,
     "metadata": {},
     "output_type": "execute_result"
    }
   ],
   "source": [
    "D_train"
   ]
  },
  {
   "cell_type": "code",
   "execution_count": 8,
   "id": "4b5ac426",
   "metadata": {},
   "outputs": [],
   "source": [
    "'''\n",
    "D_train_setosa\n",
    "D_train_versicolor\n",
    "D_test_setosa\n",
    "D_test_versicolor\n",
    "'''\n",
    "\n",
    "D_train_setosa = D_train[ D_train[:, 2] == -1 ]\n",
    "D_train_versicolor = D_train[ D_train[:, 2] == 1 ]\n",
    "D_test_setosa = D_test[ D_test[:, 2] == -1 ]\n",
    "D_test_versicolor = D_test[ D_test[:, 2] == 1 ]"
   ]
  },
  {
   "cell_type": "code",
   "execution_count": 9,
   "id": "3da55925",
   "metadata": {},
   "outputs": [
    {
     "data": {
      "image/png": "[encoded data removed]",
      "text/plain": [
       "<Figure size 432x288 with 1 Axes>"
      ]
     },
     "metadata": {
      "needs_background": "light"
     },
     "output_type": "display_data"
    }
   ],
   "source": [
    "plt.scatter(\n",
    "    D_train_setosa[:, 0],\n",
    "    D_train_setosa[:, 1],\n",
    "    color='red',\n",
    "    marker='o',\n",
    "    label='setosa-training'\n",
    ")\n",
    "\n",
    "plt.scatter(\n",
    "    D_test_setosa[:, 0],\n",
    "    D_test_setosa[:, 1],\n",
    "    color='red',\n",
    "    marker='x',\n",
    "    label='setosa-test'\n",
    ")\n",
    "\n",
    "plt.scatter(\n",
    "    D_train_versicolor[:, 0],\n",
    "    D_train_versicolor[:, 1],\n",
    "    color='blue',\n",
    "    marker='o',\n",
    "    label='versicolor-training'\n",
    ")\n",
    "\n",
    "plt.scatter(\n",
    "    D_test_versicolor[:, 0],\n",
    "    D_test_versicolor[:, 1],\n",
    "    color='blue',\n",
    "    marker='x',\n",
    "    label='versicolor-test'\n",
    ")\n",
    "\n",
    "plt.xlabel('sepal length')\n",
    "plt.ylabel('petal length')\n",
    "plt.legend(loc='upper left')\n",
    "plt.show()"
   ]
  },
  {
   "cell_type": "code",
   "execution_count": null,
   "id": "1c33926e",
   "metadata": {},
   "outputs": [],
   "source": [
    "class Perceptron(object):\n",
    "    def __init__(self, D_train):\n",
    "        self.weights = np.zeros(D_train.shape[1])\n",
    "        self.iter_count = 0\n",
    "        \n",
    "        x0 = np.ones((D_train.shape[0]))[:, np.newaxis]\n",
    "        self.D = np.hstack((x0, D_train))\n",
    "        self.misclassification_history = []\n",
    "        \n",
    "    def step_fit(self, eta=0.1):\n",
    "        X, y = self.D[:, :-1], self.D[:, -1]\n",
    "        z = np.dot(X, self.weights)\n",
    "        phi_z = np.where(z >= 0, -1, 1)\n",
    "        update = eta * (y - phi_z)\n",
    "        for i in range(len(update)):\n",
    "            self.weights += update[i] * X[i]\n",
    "        \n",
    "    \n",
    "    def score(self, D):\n",
    "        pass\n",
    "    "
   ]
  },
  {
   "cell_type": "code",
   "execution_count": 140,
   "id": "667268b9",
   "metadata": {},
   "outputs": [
    {
     "data": {
      "text/plain": [
       "3"
      ]
     },
     "execution_count": 140,
     "metadata": {},
     "output_type": "execute_result"
    }
   ],
   "source": []
  },
  {
   "cell_type": "code",
   "execution_count": 136,
   "id": "ad234d8c",
   "metadata": {},
   "outputs": [],
   "source": [
    "eta = 0.1 \n",
    "weights = np.zeros(D.shape[1])\n",
    "x0 = np.ones((D.shape[0]))[:, np.newaxis]\n",
    "D_with_bias = np.hstack((x0, D))\n",
    "X, y = D_with_bias[:, :-1], D_with_bias[:, -1]\n"
   ]
  },
  {
   "cell_type": "code",
   "execution_count": 138,
   "id": "07d1de46",
   "metadata": {},
   "outputs": [
    {
     "name": "stdout",
     "output_type": "stream",
     "text": [
      "-1.0\t1\n",
      "-1.0\t-1\n",
      "-1.0\t-1\n",
      "-1.0\t-1\n",
      "-1.0\t-1\n",
      "-1.0\t-1\n",
      "-1.0\t-1\n",
      "-1.0\t-1\n",
      "-1.0\t-1\n",
      "-1.0\t-1\n",
      "-1.0\t-1\n",
      "-1.0\t-1\n",
      "-1.0\t-1\n",
      "-1.0\t-1\n",
      "-1.0\t-1\n",
      "-1.0\t-1\n",
      "-1.0\t-1\n",
      "-1.0\t-1\n",
      "-1.0\t-1\n",
      "-1.0\t-1\n",
      "-1.0\t-1\n",
      "-1.0\t-1\n",
      "-1.0\t-1\n",
      "-1.0\t-1\n",
      "-1.0\t-1\n",
      "-1.0\t-1\n",
      "-1.0\t-1\n",
      "-1.0\t-1\n",
      "-1.0\t-1\n",
      "-1.0\t-1\n",
      "-1.0\t-1\n",
      "-1.0\t-1\n",
      "-1.0\t-1\n",
      "-1.0\t-1\n",
      "-1.0\t-1\n",
      "-1.0\t-1\n",
      "-1.0\t-1\n",
      "-1.0\t-1\n",
      "-1.0\t-1\n",
      "-1.0\t-1\n",
      "-1.0\t-1\n",
      "-1.0\t-1\n",
      "-1.0\t-1\n",
      "-1.0\t-1\n",
      "-1.0\t-1\n",
      "-1.0\t-1\n",
      "-1.0\t-1\n",
      "-1.0\t-1\n",
      "-1.0\t-1\n",
      "-1.0\t-1\n",
      "1.0\t-1\n",
      "1.0\t1\n",
      "1.0\t1\n",
      "1.0\t1\n",
      "1.0\t1\n",
      "1.0\t1\n",
      "1.0\t1\n",
      "1.0\t1\n",
      "1.0\t1\n",
      "1.0\t1\n",
      "1.0\t1\n",
      "1.0\t1\n",
      "1.0\t1\n",
      "1.0\t1\n",
      "1.0\t1\n",
      "1.0\t1\n",
      "1.0\t1\n",
      "1.0\t1\n",
      "1.0\t1\n",
      "1.0\t1\n",
      "1.0\t1\n",
      "1.0\t1\n",
      "1.0\t1\n",
      "1.0\t1\n",
      "1.0\t1\n",
      "1.0\t1\n",
      "1.0\t1\n",
      "1.0\t1\n",
      "1.0\t1\n",
      "1.0\t1\n",
      "1.0\t1\n",
      "1.0\t1\n",
      "1.0\t1\n",
      "1.0\t1\n",
      "1.0\t1\n",
      "1.0\t1\n",
      "1.0\t1\n",
      "1.0\t1\n",
      "1.0\t1\n",
      "1.0\t1\n",
      "1.0\t1\n",
      "1.0\t1\n",
      "1.0\t1\n",
      "1.0\t1\n",
      "1.0\t1\n",
      "1.0\t1\n",
      "1.0\t1\n",
      "1.0\t1\n",
      "1.0\t1\n",
      "1.0\t1\n"
     ]
    },
    {
     "data": {
      "text/plain": [
       "2"
      ]
     },
     "execution_count": 138,
     "metadata": {},
     "output_type": "execute_result"
    }
   ],
   "source": [
    "def predict(x, w):\n",
    "    return np.where(np.dot(x,w) >= 0.0, 1, -1)\n",
    "\n",
    "misclassification_count = 0\n",
    "\n",
    "for xi, target in zip(X, y):\n",
    "    y_hat = predict(xi, weights)\n",
    "    print(target, y_hat, sep=\"\\t\")\n",
    "    update = eta * (target - y_hat)\n",
    "    weights += update * xi\n",
    "    misclassification_count += int(update != 0.0)\n",
    "\n",
    "# z = np.dot(X, weights)\n",
    "# phi_z = np.where(z >= 0, 1, -1)\n",
    "# update = eta * (y - phi_z)\n",
    "# x\n",
    "# z, phi_z, y, update\n",
    "misclassification_count"
   ]
  },
  {
   "cell_type": "code",
   "execution_count": 122,
   "id": "35b07554",
   "metadata": {
    "scrolled": true
   },
   "outputs": [],
   "source": [
    "for i in range(len(update)):\n",
    "    weights += update[i] * X[i]"
   ]
  },
  {
   "cell_type": "code",
   "execution_count": 134,
   "id": "73faeb12",
   "metadata": {},
   "outputs": [
    {
     "data": {
      "text/plain": [
       "array([0.   , 0.038, 0.066])"
      ]
     },
     "execution_count": 134,
     "metadata": {},
     "output_type": "execute_result"
    }
   ],
   "source": [
    "weights"
   ]
  },
  {
   "cell_type": "code",
   "execution_count": 135,
   "id": "86875bc9",
   "metadata": {},
   "outputs": [
    {
     "data": {
      "text/plain": [
       "2"
      ]
     },
     "execution_count": 135,
     "metadata": {},
     "output_type": "execute_result"
    }
   ],
   "source": [
    "misclassification_count"
   ]
  },
  {
   "cell_type": "code",
   "execution_count": 91,
   "id": "2499fa65",
   "metadata": {},
   "outputs": [
    {
     "data": {
      "text/plain": [
       "array([1. , 5.1, 1.4])"
      ]
     },
     "execution_count": 91,
     "metadata": {},
     "output_type": "execute_result"
    }
   ],
   "source": []
  },
  {
   "cell_type": "code",
   "execution_count": 92,
   "id": "2a1b90c2",
   "metadata": {},
   "outputs": [
    {
     "data": {
      "text/plain": [
       "0.0"
      ]
     },
     "execution_count": 92,
     "metadata": {},
     "output_type": "execute_result"
    }
   ],
   "source": []
  },
  {
   "cell_type": "code",
   "execution_count": null,
   "id": "31f672c7",
   "metadata": {},
   "outputs": [],
   "source": []
  },
  {
   "cell_type": "code",
   "execution_count": 44,
   "id": "99144a5a",
   "metadata": {},
   "outputs": [
    {
     "name": "stdout",
     "output_type": "stream",
     "text": [
      "0.0\t0\t[]\t[1, 2, 3, 4, 5, 6, 7, 8, 9, 10]\n",
      "0.1\t1\t[1]\t[2, 3, 4, 5, 6, 7, 8, 9, 10]\n",
      "0.2\t2\t[1, 2]\t[3, 4, 5, 6, 7, 8, 9, 10]\n",
      "0.30000000000000004\t3\t[1, 2, 3]\t[4, 5, 6, 7, 8, 9, 10]\n",
      "0.4\t4\t[1, 2, 3, 4]\t[5, 6, 7, 8, 9, 10]\n",
      "0.5\t5\t[1, 2, 3, 4, 5]\t[6, 7, 8, 9, 10]\n",
      "0.6000000000000001\t6\t[1, 2, 3, 4, 5, 6]\t[7, 8, 9, 10]\n",
      "0.7000000000000001\t7\t[1, 2, 3, 4, 5, 6, 7]\t[8, 9, 10]\n",
      "0.8\t8\t[1, 2, 3, 4, 5, 6, 7, 8]\t[9, 10]\n",
      "0.9\t9\t[1, 2, 3, 4, 5, 6, 7, 8, 9]\t[10]\n",
      "1.0\t10\t[1, 2, 3, 4, 5, 6, 7, 8, 9, 10]\t[]\n"
     ]
    }
   ],
   "source": [
    "'''\n",
    "This function is used to test the math of\n",
    "create_test_train_partition.\n",
    "'''\n",
    "def split_array(arr, percentage):\n",
    "    split_index = int(percentage * len(arr))\n",
    "    arr1 = arr[:split_index]\n",
    "    arr2 = arr[split_index:]\n",
    "    print(percentage, split_index, arr1, arr2, sep=\"\\t\")\n",
    "    return arr1, arr2\n",
    "\n",
    "percentages = [i * 0.1 for i in range(11)]\n",
    "arr = [i+1 for i in range(10)]\n",
    "for percentage in percentages:\n",
    "    split_array(arr, percentage)"
   ]
  }
 ],
 "metadata": {
  "kernelspec": {
   "display_name": "Python 3 (ipykernel)",
   "language": "python",
   "name": "python3"
  },
  "language_info": {
   "codemirror_mode": {
    "name": "ipython",
    "version": 3
   },
   "file_extension": ".py",
   "mimetype": "text/x-python",
   "name": "python",
   "nbconvert_exporter": "python",
   "pygments_lexer": "ipython3",
   "version": "3.10.2"
  }
 },
 "nbformat": 4,
 "nbformat_minor": 5
}
