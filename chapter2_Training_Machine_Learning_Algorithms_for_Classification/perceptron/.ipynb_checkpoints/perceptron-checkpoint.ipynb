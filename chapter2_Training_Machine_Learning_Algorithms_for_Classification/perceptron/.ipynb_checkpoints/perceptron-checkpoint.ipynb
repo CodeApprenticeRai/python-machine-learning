{
 "cells": [
  {
   "cell_type": "code",
   "execution_count": 1,
   "id": "9f38b8c9",
   "metadata": {
    "scrolled": true
   },
   "outputs": [
    {
     "data": {
      "text/html": [
       "<div>\n",
       "<style scoped>\n",
       "    .dataframe tbody tr th:only-of-type {\n",
       "        vertical-align: middle;\n",
       "    }\n",
       "\n",
       "    .dataframe tbody tr th {\n",
       "        vertical-align: top;\n",
       "    }\n",
       "\n",
       "    .dataframe thead th {\n",
       "        text-align: right;\n",
       "    }\n",
       "</style>\n",
       "<table border=\"1\" class=\"dataframe\">\n",
       "  <thead>\n",
       "    <tr style=\"text-align: right;\">\n",
       "      <th></th>\n",
       "      <th>0</th>\n",
       "      <th>1</th>\n",
       "      <th>2</th>\n",
       "      <th>3</th>\n",
       "      <th>4</th>\n",
       "    </tr>\n",
       "  </thead>\n",
       "  <tbody>\n",
       "    <tr>\n",
       "      <th>0</th>\n",
       "      <td>5.1</td>\n",
       "      <td>3.5</td>\n",
       "      <td>1.4</td>\n",
       "      <td>0.2</td>\n",
       "      <td>Iris-setosa</td>\n",
       "    </tr>\n",
       "    <tr>\n",
       "      <th>1</th>\n",
       "      <td>4.9</td>\n",
       "      <td>3.0</td>\n",
       "      <td>1.4</td>\n",
       "      <td>0.2</td>\n",
       "      <td>Iris-setosa</td>\n",
       "    </tr>\n",
       "    <tr>\n",
       "      <th>2</th>\n",
       "      <td>4.7</td>\n",
       "      <td>3.2</td>\n",
       "      <td>1.3</td>\n",
       "      <td>0.2</td>\n",
       "      <td>Iris-setosa</td>\n",
       "    </tr>\n",
       "    <tr>\n",
       "      <th>3</th>\n",
       "      <td>4.6</td>\n",
       "      <td>3.1</td>\n",
       "      <td>1.5</td>\n",
       "      <td>0.2</td>\n",
       "      <td>Iris-setosa</td>\n",
       "    </tr>\n",
       "    <tr>\n",
       "      <th>4</th>\n",
       "      <td>5.0</td>\n",
       "      <td>3.6</td>\n",
       "      <td>1.4</td>\n",
       "      <td>0.2</td>\n",
       "      <td>Iris-setosa</td>\n",
       "    </tr>\n",
       "    <tr>\n",
       "      <th>...</th>\n",
       "      <td>...</td>\n",
       "      <td>...</td>\n",
       "      <td>...</td>\n",
       "      <td>...</td>\n",
       "      <td>...</td>\n",
       "    </tr>\n",
       "    <tr>\n",
       "      <th>145</th>\n",
       "      <td>6.7</td>\n",
       "      <td>3.0</td>\n",
       "      <td>5.2</td>\n",
       "      <td>2.3</td>\n",
       "      <td>Iris-virginica</td>\n",
       "    </tr>\n",
       "    <tr>\n",
       "      <th>146</th>\n",
       "      <td>6.3</td>\n",
       "      <td>2.5</td>\n",
       "      <td>5.0</td>\n",
       "      <td>1.9</td>\n",
       "      <td>Iris-virginica</td>\n",
       "    </tr>\n",
       "    <tr>\n",
       "      <th>147</th>\n",
       "      <td>6.5</td>\n",
       "      <td>3.0</td>\n",
       "      <td>5.2</td>\n",
       "      <td>2.0</td>\n",
       "      <td>Iris-virginica</td>\n",
       "    </tr>\n",
       "    <tr>\n",
       "      <th>148</th>\n",
       "      <td>6.2</td>\n",
       "      <td>3.4</td>\n",
       "      <td>5.4</td>\n",
       "      <td>2.3</td>\n",
       "      <td>Iris-virginica</td>\n",
       "    </tr>\n",
       "    <tr>\n",
       "      <th>149</th>\n",
       "      <td>5.9</td>\n",
       "      <td>3.0</td>\n",
       "      <td>5.1</td>\n",
       "      <td>1.8</td>\n",
       "      <td>Iris-virginica</td>\n",
       "    </tr>\n",
       "  </tbody>\n",
       "</table>\n",
       "<p>150 rows × 5 columns</p>\n",
       "</div>"
      ],
      "text/plain": [
       "       0    1    2    3               4\n",
       "0    5.1  3.5  1.4  0.2     Iris-setosa\n",
       "1    4.9  3.0  1.4  0.2     Iris-setosa\n",
       "2    4.7  3.2  1.3  0.2     Iris-setosa\n",
       "3    4.6  3.1  1.5  0.2     Iris-setosa\n",
       "4    5.0  3.6  1.4  0.2     Iris-setosa\n",
       "..   ...  ...  ...  ...             ...\n",
       "145  6.7  3.0  5.2  2.3  Iris-virginica\n",
       "146  6.3  2.5  5.0  1.9  Iris-virginica\n",
       "147  6.5  3.0  5.2  2.0  Iris-virginica\n",
       "148  6.2  3.4  5.4  2.3  Iris-virginica\n",
       "149  5.9  3.0  5.1  1.8  Iris-virginica\n",
       "\n",
       "[150 rows x 5 columns]"
      ]
     },
     "execution_count": 1,
     "metadata": {},
     "output_type": "execute_result"
    }
   ],
   "source": [
    "import pandas as pd\n",
    "import matplotlib.pyplot as plt\n",
    "import numpy as np\n",
    "\n",
    "df = pd.read_csv(\n",
    "    \"https://archive.ics.uci.edu/ml/machine-learning-databases/iris/iris.data\",\n",
    "    header=None\n",
    ")\n",
    "\n",
    "df"
   ]
  },
  {
   "cell_type": "code",
   "execution_count": 2,
   "id": "32e88019",
   "metadata": {
    "scrolled": true
   },
   "outputs": [
    {
     "data": {
      "text/plain": [
       "array([[ 5.1,  1.4, -1. ],\n",
       "       [ 4.9,  1.4, -1. ],\n",
       "       [ 4.7,  1.3, -1. ],\n",
       "       [ 4.6,  1.5, -1. ],\n",
       "       [ 5. ,  1.4, -1. ],\n",
       "       [ 5.4,  1.7, -1. ],\n",
       "       [ 4.6,  1.4, -1. ],\n",
       "       [ 5. ,  1.5, -1. ],\n",
       "       [ 4.4,  1.4, -1. ],\n",
       "       [ 4.9,  1.5, -1. ],\n",
       "       [ 5.4,  1.5, -1. ],\n",
       "       [ 4.8,  1.6, -1. ],\n",
       "       [ 4.8,  1.4, -1. ],\n",
       "       [ 4.3,  1.1, -1. ],\n",
       "       [ 5.8,  1.2, -1. ],\n",
       "       [ 5.7,  1.5, -1. ],\n",
       "       [ 5.4,  1.3, -1. ],\n",
       "       [ 5.1,  1.4, -1. ],\n",
       "       [ 5.7,  1.7, -1. ],\n",
       "       [ 5.1,  1.5, -1. ],\n",
       "       [ 5.4,  1.7, -1. ],\n",
       "       [ 5.1,  1.5, -1. ],\n",
       "       [ 4.6,  1. , -1. ],\n",
       "       [ 5.1,  1.7, -1. ],\n",
       "       [ 4.8,  1.9, -1. ],\n",
       "       [ 5. ,  1.6, -1. ],\n",
       "       [ 5. ,  1.6, -1. ],\n",
       "       [ 5.2,  1.5, -1. ],\n",
       "       [ 5.2,  1.4, -1. ],\n",
       "       [ 4.7,  1.6, -1. ],\n",
       "       [ 4.8,  1.6, -1. ],\n",
       "       [ 5.4,  1.5, -1. ],\n",
       "       [ 5.2,  1.5, -1. ],\n",
       "       [ 5.5,  1.4, -1. ],\n",
       "       [ 4.9,  1.5, -1. ],\n",
       "       [ 5. ,  1.2, -1. ],\n",
       "       [ 5.5,  1.3, -1. ],\n",
       "       [ 4.9,  1.5, -1. ],\n",
       "       [ 4.4,  1.3, -1. ],\n",
       "       [ 5.1,  1.5, -1. ],\n",
       "       [ 5. ,  1.3, -1. ],\n",
       "       [ 4.5,  1.3, -1. ],\n",
       "       [ 4.4,  1.3, -1. ],\n",
       "       [ 5. ,  1.6, -1. ],\n",
       "       [ 5.1,  1.9, -1. ],\n",
       "       [ 4.8,  1.4, -1. ],\n",
       "       [ 5.1,  1.6, -1. ],\n",
       "       [ 4.6,  1.4, -1. ],\n",
       "       [ 5.3,  1.5, -1. ],\n",
       "       [ 5. ,  1.4, -1. ],\n",
       "       [ 7. ,  4.7,  1. ],\n",
       "       [ 6.4,  4.5,  1. ],\n",
       "       [ 6.9,  4.9,  1. ],\n",
       "       [ 5.5,  4. ,  1. ],\n",
       "       [ 6.5,  4.6,  1. ],\n",
       "       [ 5.7,  4.5,  1. ],\n",
       "       [ 6.3,  4.7,  1. ],\n",
       "       [ 4.9,  3.3,  1. ],\n",
       "       [ 6.6,  4.6,  1. ],\n",
       "       [ 5.2,  3.9,  1. ],\n",
       "       [ 5. ,  3.5,  1. ],\n",
       "       [ 5.9,  4.2,  1. ],\n",
       "       [ 6. ,  4. ,  1. ],\n",
       "       [ 6.1,  4.7,  1. ],\n",
       "       [ 5.6,  3.6,  1. ],\n",
       "       [ 6.7,  4.4,  1. ],\n",
       "       [ 5.6,  4.5,  1. ],\n",
       "       [ 5.8,  4.1,  1. ],\n",
       "       [ 6.2,  4.5,  1. ],\n",
       "       [ 5.6,  3.9,  1. ],\n",
       "       [ 5.9,  4.8,  1. ],\n",
       "       [ 6.1,  4. ,  1. ],\n",
       "       [ 6.3,  4.9,  1. ],\n",
       "       [ 6.1,  4.7,  1. ],\n",
       "       [ 6.4,  4.3,  1. ],\n",
       "       [ 6.6,  4.4,  1. ],\n",
       "       [ 6.8,  4.8,  1. ],\n",
       "       [ 6.7,  5. ,  1. ],\n",
       "       [ 6. ,  4.5,  1. ],\n",
       "       [ 5.7,  3.5,  1. ],\n",
       "       [ 5.5,  3.8,  1. ],\n",
       "       [ 5.5,  3.7,  1. ],\n",
       "       [ 5.8,  3.9,  1. ],\n",
       "       [ 6. ,  5.1,  1. ],\n",
       "       [ 5.4,  4.5,  1. ],\n",
       "       [ 6. ,  4.5,  1. ],\n",
       "       [ 6.7,  4.7,  1. ],\n",
       "       [ 6.3,  4.4,  1. ],\n",
       "       [ 5.6,  4.1,  1. ],\n",
       "       [ 5.5,  4. ,  1. ],\n",
       "       [ 5.5,  4.4,  1. ],\n",
       "       [ 6.1,  4.6,  1. ],\n",
       "       [ 5.8,  4. ,  1. ],\n",
       "       [ 5. ,  3.3,  1. ],\n",
       "       [ 5.6,  4.2,  1. ],\n",
       "       [ 5.7,  4.2,  1. ],\n",
       "       [ 5.7,  4.2,  1. ],\n",
       "       [ 6.2,  4.3,  1. ],\n",
       "       [ 5.1,  3. ,  1. ],\n",
       "       [ 5.7,  4.1,  1. ]])"
      ]
     },
     "execution_count": 2,
     "metadata": {},
     "output_type": "execute_result"
    }
   ],
   "source": [
    "def standardize_labels(s): \n",
    "    if (s == 'Iris-setosa'):\n",
    "        return -1\n",
    "    else:\n",
    "        return 1\n",
    "\n",
    "_D = df.iloc[0:100, [0, 2, 4]]\n",
    "_D[4] = _D[4].map(standardize_labels)\n",
    "D =_D.values\n",
    "D"
   ]
  },
  {
   "cell_type": "code",
   "execution_count": 5,
   "id": "0f6e0831",
   "metadata": {},
   "outputs": [],
   "source": [
    "D_setosa = D[ D[:, 2] == -1 ]\n",
    "D_versicolor = D[ D[:, 2] == 1 ]"
   ]
  },
  {
   "cell_type": "code",
   "execution_count": 9,
   "id": "3b6f19c2",
   "metadata": {},
   "outputs": [
    {
     "data": {
      "image/png": "[encoded data removed]",
      "text/plain": [
       "<Figure size 432x288 with 1 Axes>"
      ]
     },
     "metadata": {
      "needs_background": "light"
     },
     "output_type": "display_data"
    }
   ],
   "source": [
    "plt.scatter( \n",
    "    D_setosa[:, 0],\n",
    "    D_setosa[:, 1],\n",
    "    color = \"red\",\n",
    "    marker = \"o\",\n",
    "    label = \"setosa\"\n",
    ")\n",
    "\n",
    "plt.scatter( \n",
    "    D_versicolor[:, 0],\n",
    "    D_versicolor[:, 1],\n",
    "    color = \"blue\",\n",
    "    marker = \"o\",\n",
    "    label = \"versicolor\"\n",
    ")\n",
    "\n",
    "plt.xlabel('sepal length')\n",
    "plt.ylabel('petal length')\n",
    "plt.legend(loc='upper left')\n",
    "plt.show()"
   ]
  },
  {
   "cell_type": "code",
   "execution_count": 10,
   "id": "de7a7acb",
   "metadata": {},
   "outputs": [],
   "source": [
    "class Perceptron(object):\n",
    "    def __init__(self, D):\n",
    "        self.weights = np.zeros(D.shape[1])\n",
    "        self.iter_count = 0\n",
    "        \n",
    "        x0 = np.ones(D.shape[0])[:, np.newaxis]\n",
    "        self.D = np.hstack((x0, D))\n",
    "        self.X, self.Y = self.D[:, :-1], self.D[:, -1]\n",
    "        self.misclasification_history = []\n",
    "    \n",
    "    def step_fit(self, eta=0.01):\n",
    "        misclassification_count = 0\n",
    "\n",
    "        for xi, target in zip(self.X, self.Y):\n",
    "            y_hat = self.predict(xi)\n",
    "            update = eta * (target - y_hat)\n",
    "            self.weights += update * xi\n",
    "            misclassification_count += int(update != 0.0)\n",
    "        self.misclasification_history.append(misclassification_count)\n",
    "        self.iter_count += 1\n",
    "        return self\n",
    "    \n",
    "    def predict(self, x):\n",
    "        return np.where(np.dot(x, self.weights) >= 0.0, 1, -1)"
   ]
  },
  {
   "cell_type": "code",
   "execution_count": 22,
   "id": "31cf6efe",
   "metadata": {},
   "outputs": [
    {
     "data": {
      "text/plain": [
       "array([0., 0., 0.])"
      ]
     },
     "execution_count": 22,
     "metadata": {},
     "output_type": "execute_result"
    }
   ],
   "source": [
    "perceptron = Perceptron(D)\n",
    "perceptron.weights"
   ]
  },
  {
   "cell_type": "code",
   "execution_count": 23,
   "id": "a8e51b67",
   "metadata": {},
   "outputs": [
    {
     "name": "stdout",
     "output_type": "stream",
     "text": [
      "[0.    0.038 0.066]\t2\n",
      "[0.    0.076 0.132]\t2\n",
      "[-0.02   0.022  0.168]\t3\n",
      "[-0.02   0.034  0.21 ]\t2\n",
      "[-0.04  -0.068  0.182]\t1\n",
      "[-0.04  -0.068  0.182]\t0\n",
      "[-0.04  -0.068  0.182]\t0\n",
      "[-0.04  -0.068  0.182]\t0\n",
      "[-0.04  -0.068  0.182]\t0\n",
      "[-0.04  -0.068  0.182]\t0\n"
     ]
    }
   ],
   "source": [
    "for t in range(10):\n",
    "    perceptron.step_fit()\n",
    "    print(\n",
    "        perceptron.weights, \n",
    "        perceptron.misclasification_history[-1],\n",
    "        sep=\"\\t\"\n",
    "    )"
   ]
  },
  {
   "cell_type": "code",
   "execution_count": 24,
   "id": "c7492841",
   "metadata": {},
   "outputs": [
    {
     "data": {
      "image/png": "[encoded data removed]",
      "text/plain": [
       "<Figure size 432x288 with 1 Axes>"
      ]
     },
     "metadata": {
      "needs_background": "light"
     },
     "output_type": "display_data"
    }
   ],
   "source": [
    "t_index = range(1, len(perceptron.misclasification_history) + 1)\n",
    "\n",
    "plt.plot(t_index, perceptron.misclasification_history)\n",
    "plt.xlabel('Epochs')\n",
    "plt.ylabel('Number of misclassifications')\n",
    "plt.show()"
   ]
  },
  {
   "cell_type": "code",
   "execution_count": null,
   "id": "578775a0",
   "metadata": {},
   "outputs": [],
   "source": [
    "\n"
   ]
  }
 ],
 "metadata": {
  "kernelspec": {
   "display_name": "Python 3 (ipykernel)",
   "language": "python",
   "name": "python3"
  },
  "language_info": {
   "codemirror_mode": {
    "name": "ipython",
    "version": 3
   },
   "file_extension": ".py",
   "mimetype": "text/x-python",
   "name": "python",
   "nbconvert_exporter": "python",
   "pygments_lexer": "ipython3",
   "version": "3.10.2"
  }
 },
 "nbformat": 4,
 "nbformat_minor": 5
}
