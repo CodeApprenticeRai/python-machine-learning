{
 "cells": [
  {
   "cell_type": "code",
   "execution_count": 1,
   "id": "cbc07df6",
   "metadata": {},
   "outputs": [],
   "source": [
    "import pandas as pd\n",
    "\n",
    "df_wine = pd.read_csv(\n",
    "    'https://archive.ics.uci.edu/ml/machine-learning-databases/wine/wine.data',\n",
    "    header=None\n",
    ")"
   ]
  },
  {
   "cell_type": "code",
   "execution_count": 21,
   "id": "e8a88d1c",
   "metadata": {},
   "outputs": [],
   "source": [
    "from sklearn.model_selection import train_test_split\n",
    "from sklearn.preprocessing import StandardScaler\n",
    "\n",
    "X, y = df_wine.iloc[:, 1:].values, df_wine.iloc[:, 0].values\n",
    "X_train, X_test, y_train, y_test = train_test_split(\n",
    "    X, y, test_size=0.3, random_state=0\n",
    ")\n",
    "\n",
    "sc = StandardScaler()\n",
    "X_train_std = sc.fit_transform(X_train)\n",
    "X_test_std = sc.fit_transform(X_test)"
   ]
  },
  {
   "cell_type": "code",
   "execution_count": 27,
   "id": "ea4eb8f2",
   "metadata": {},
   "outputs": [],
   "source": [
    "import matplotlib.pyplot as plt\n",
    "from matplotlib.colors import ListedColormap\n",
    "\n",
    "def plot_decision_regions(X, y, classifier, test_idx=None, resolution=0.02):\n",
    "    # setup marker generator and color map\n",
    "    markers = ('s', 'x', 'o', '^', 'v')\n",
    "    colors = ('red', 'blue', 'lightgreen', 'gray', 'cyan')\n",
    "    cmap = ListedColormap(colors[:len(np.unique(y))])\n",
    "    \n",
    "    #plot the decision surface\n",
    "    x1_min, x1_max = X[:,0].min() -1, X[:,0].max() + 1\n",
    "    x2_min, x2_max = X[:,1].min() -1, X[:,1].max() + 1\n",
    "    xx1, xx2 = np.meshgrid(\n",
    "        np.arange(x1_min, x1_max, resolution),\n",
    "        np.arange(x2_min, x2_max, resolution),\n",
    "    )\n",
    "    Z = classifier.predict(np.array([xx1.ravel(), xx2.ravel()]).T)\n",
    "    Z = Z.reshape(xx1.shape)\n",
    "    plt.contourf(xx1,xx2, Z, alpha=0.4, cmap=cmap)\n",
    "    plt.xlim(xx1.min(), xx1.max())\n",
    "    plt.ylim(xx2.min(), xx2.max())\n",
    "    \n",
    "    # plot class samples\n",
    "    for idx, cl in enumerate(np.unique(y)):\n",
    "        plt.scatter(\n",
    "            x=X[y == cl, 0],\n",
    "            y=X[y == cl, 1],\n",
    "            alpha=0.8,\n",
    "            c=cmap(idx),\n",
    "            marker=markers[idx],\n",
    "            label=cl\n",
    "        )\n",
    "    \n",
    "    #highlight test samples\n",
    "    if test_idx:\n",
    "        X_test, y_test = X[test_idx, :], y[test_idx]\n",
    "        plt.scatter(\n",
    "            X_test[:, 0], X_test[:, 1],\n",
    "            alpha=1.0, linewidth=1,\n",
    "            marker='o', s=55, label='test set'\n",
    "        )\n",
    "    return None"
   ]
  },
  {
   "cell_type": "code",
   "execution_count": 3,
   "id": "65233fde",
   "metadata": {},
   "outputs": [
    {
     "data": {
      "text/plain": [
       "(array([4.8923083 , 2.46635032, 1.42809973, 1.01233462, 0.84906459,\n",
       "        0.60181514, 0.52251546, 0.08414846, 0.33051429, 0.29595018,\n",
       "        0.16831254, 0.21432212, 0.2399553 ]),\n",
       " array([[ 1.46698114e-01,  5.04170789e-01, -1.17235150e-01,\n",
       "          2.06254611e-01, -1.87815947e-01, -1.48851318e-01,\n",
       "         -1.79263662e-01, -5.54687162e-02, -4.03054922e-01,\n",
       "         -4.17197583e-01,  2.75660860e-01,  4.03567189e-01,\n",
       "          4.13320786e-04],\n",
       "        [-2.42245536e-01,  2.42168894e-01,  1.49946576e-01,\n",
       "          1.30489298e-01,  5.68639776e-01, -2.69052764e-01,\n",
       "         -5.92636731e-01,  3.32731614e-02, -1.01833706e-01,\n",
       "          2.17101488e-01, -8.13845005e-02, -1.52474999e-01,\n",
       "         -8.78560762e-02],\n",
       "        [-2.99344215e-02,  2.86984836e-01,  6.56394387e-01,\n",
       "          1.51536318e-02, -2.99209426e-01, -9.33386061e-02,\n",
       "          6.07334578e-02, -1.00618575e-01,  3.51841423e-01,\n",
       "          1.28549846e-01, -1.29751275e-02,  1.68376064e-01,\n",
       "         -4.52518598e-01],\n",
       "        [-2.55190023e-01, -6.46871827e-02,  5.84282337e-01,\n",
       "         -9.04220851e-02, -4.12499478e-02, -1.01342392e-01,\n",
       "          2.50323869e-01,  5.61658566e-02, -5.00457282e-01,\n",
       "          4.73344124e-02,  9.89088030e-02, -6.70902926e-02,\n",
       "          4.86169765e-01],\n",
       "        [ 1.20797723e-01,  2.29953850e-01,  8.22627466e-02,\n",
       "         -8.39128346e-01, -2.71971315e-02,  1.12567350e-01,\n",
       "         -2.85240559e-01,  9.58423947e-02,  8.37391743e-02,\n",
       "         -2.78918776e-01, -9.59297663e-02, -1.02396856e-01,\n",
       "          1.14764951e-01],\n",
       "        [ 3.89344551e-01,  9.36399132e-02,  1.80804417e-01,\n",
       "          1.93179478e-01,  1.40645426e-01,  1.22248798e-02,\n",
       "          5.31455344e-02, -4.21265116e-01,  1.35111456e-01,\n",
       "         -2.80985650e-01,  2.83897644e-01, -6.18600153e-01,\n",
       "          9.45645138e-02],\n",
       "        [ 4.23264856e-01,  1.08862204e-02,  1.42959330e-01,\n",
       "          1.40459548e-01,  9.26866486e-02, -5.50345182e-02,\n",
       "          7.98994076e-02,  8.47224703e-01,  3.36016514e-03,\n",
       "         -3.91442963e-02,  1.16729207e-01, -1.39680277e-01,\n",
       "         -1.00444099e-01],\n",
       "        [-3.06349555e-01,  1.87021637e-02,  1.72234753e-01,\n",
       "          3.37332618e-01, -8.58416771e-02,  6.95340883e-01,\n",
       "         -2.97371718e-01,  1.66256803e-01,  1.90120758e-01,\n",
       "         -2.78622194e-01, -3.96566280e-02,  1.63323514e-03,\n",
       "          2.00128778e-01],\n",
       "        [ 3.05722194e-01,  3.04035180e-02,  1.58362102e-01,\n",
       "         -1.14752900e-01,  5.65105241e-01,  4.98354410e-01,\n",
       "          2.02519133e-01, -1.66197468e-01, -1.76029939e-01,\n",
       "          1.48539457e-01,  8.60602743e-02,  3.88568490e-01,\n",
       "         -1.39942067e-01],\n",
       "        [-9.86919131e-02,  5.45270809e-01, -1.42421708e-01,\n",
       "          7.87857057e-02,  1.32346052e-02,  1.59452160e-01,\n",
       "          3.97364107e-01,  3.96173606e-02, -2.14930670e-01,\n",
       "         -4.10240865e-03, -5.71651893e-01, -3.08345904e-01,\n",
       "         -1.15349466e-01],\n",
       "        [ 3.00325353e-01, -2.79243218e-01,  9.32387182e-02,\n",
       "          2.41740256e-02, -3.72610811e-01,  2.16515349e-01,\n",
       "         -3.84654748e-01, -1.05383688e-01, -5.17259438e-01,\n",
       "          1.97814118e-01, -1.98844532e-01, -2.00456386e-01,\n",
       "         -3.02254353e-01],\n",
       "        [ 3.68211538e-01, -1.74365000e-01,  1.96077407e-01,\n",
       "          1.84028641e-01,  8.93796748e-02, -2.35172361e-01,\n",
       "         -8.62903341e-02, -9.95055559e-02,  1.36456039e-01,\n",
       "         -2.38138151e-01, -6.50869713e-01,  2.84100327e-01,\n",
       "          3.18414303e-01],\n",
       "        [ 2.92597130e-01,  3.63154608e-01, -9.73171134e-02,\n",
       "          5.67677845e-02, -2.17529485e-01,  1.05621383e-01,\n",
       "         -1.30298291e-01, -1.60661776e-02,  1.67758429e-01,\n",
       "          6.37350206e-01,  7.12377082e-02,  3.75546771e-02,\n",
       "          5.03247839e-01]]))"
      ]
     },
     "execution_count": 3,
     "metadata": {},
     "output_type": "execute_result"
    }
   ],
   "source": [
    "import numpy as np\n",
    "\n",
    "cov_mat = np.cov(X_train_std.T)\n",
    "eigen_vals, eigen_vecs = np.linalg.eig(cov_mat)\n",
    "\n",
    "eigen_vals, eigen_vecs"
   ]
  },
  {
   "cell_type": "code",
   "execution_count": 4,
   "id": "5205eea2",
   "metadata": {},
   "outputs": [
    {
     "data": {
      "image/png": "[encoded data removed]",
      "text/plain": [
       "<Figure size 432x288 with 1 Axes>"
      ]
     },
     "metadata": {
      "needs_background": "light"
     },
     "output_type": "display_data"
    }
   ],
   "source": [
    "tot = sum(eigen_vals)\n",
    "var_exp = [(i / tot) for i in sorted(eigen_vals, reverse=True)]\n",
    "\n",
    "cum_var_exp = np.cumsum(var_exp)\n",
    "\n",
    "import matplotlib.pyplot as plt\n",
    "plt.bar(\n",
    "    range(1,14), var_exp, alpha=0.5, align='center',\n",
    "    label='individual explained variance'\n",
    ")\n",
    "plt.step(\n",
    "    range(1,14), cum_var_exp, where='mid',\n",
    "    label='cumulative explained variance'\n",
    ")\n",
    "plt.ylabel('Explained variance ratio')\n",
    "plt.xlabel('Principal components')\n",
    "plt.legend(loc='best')\n",
    "plt.show()"
   ]
  },
  {
   "cell_type": "code",
   "execution_count": 6,
   "id": "5f75ae19",
   "metadata": {},
   "outputs": [],
   "source": [
    "eigen_pairs = [\n",
    "    (np.abs(eigen_vals[i]), eigen_vecs[:,i])\n",
    "    for i in range(len(eigen_vals))\n",
    "]\n",
    "eigen_pairs.sort(reverse=True)"
   ]
  },
  {
   "cell_type": "code",
   "execution_count": 8,
   "id": "de987bc5",
   "metadata": {},
   "outputs": [
    {
     "data": {
      "text/plain": [
       "array([[ 0.14669811,  0.50417079],\n",
       "       [-0.24224554,  0.24216889],\n",
       "       [-0.02993442,  0.28698484],\n",
       "       [-0.25519002, -0.06468718],\n",
       "       [ 0.12079772,  0.22995385],\n",
       "       [ 0.38934455,  0.09363991],\n",
       "       [ 0.42326486,  0.01088622],\n",
       "       [-0.30634956,  0.01870216],\n",
       "       [ 0.30572219,  0.03040352],\n",
       "       [-0.09869191,  0.54527081],\n",
       "       [ 0.30032535, -0.27924322],\n",
       "       [ 0.36821154, -0.174365  ],\n",
       "       [ 0.29259713,  0.36315461]])"
      ]
     },
     "execution_count": 8,
     "metadata": {},
     "output_type": "execute_result"
    }
   ],
   "source": [
    "w = np.hstack(\n",
    "    (\n",
    "    (eigen_pairs[0][1][:, np.newaxis]),\n",
    "    (eigen_pairs[1][1][:, np.newaxis])\n",
    "    )\n",
    ")\n",
    "\n",
    "w"
   ]
  },
  {
   "cell_type": "code",
   "execution_count": 14,
   "id": "9e2a2aae",
   "metadata": {},
   "outputs": [
    {
     "data": {
      "text/plain": [
       "array([2.59891628, 0.00484089])"
      ]
     },
     "execution_count": 14,
     "metadata": {},
     "output_type": "execute_result"
    }
   ],
   "source": [
    "X_train_std[0].dot(w)"
   ]
  },
  {
   "cell_type": "code",
   "execution_count": 22,
   "id": "a86e1cb1",
   "metadata": {},
   "outputs": [
    {
     "data": {
      "text/plain": [
       "array([[ 2.59891628,  0.00484089],\n",
       "       [ 0.15819134, -2.26659577],\n",
       "       [-2.6372337 ,  2.66488569],\n",
       "       [-2.52848449,  0.51846618],\n",
       "       [ 1.70922581, -0.91719459],\n",
       "       [-2.83057003,  0.41936129],\n",
       "       [-2.82251879,  1.99763147],\n",
       "       [ 1.36618015,  0.04639099],\n",
       "       [-2.46584868, -0.07932269],\n",
       "       [-2.28554906, -0.40096658],\n",
       "       [ 1.14246632, -2.39587633],\n",
       "       [-2.28497881, -1.09274988],\n",
       "       [-2.52924945,  0.6477328 ],\n",
       "       [ 0.169245  , -1.1264982 ],\n",
       "       [ 2.53088166,  1.05798498],\n",
       "       [-0.71596964, -2.80365836],\n",
       "       [ 2.46922033, -0.15871191],\n",
       "       [-0.58044574, -0.69290749],\n",
       "       [ 0.54583852,  0.41042188],\n",
       "       [ 3.5604963 ,  1.42561284],\n",
       "       [ 1.58679826, -1.51260121],\n",
       "       [ 2.54872139, -0.05280515],\n",
       "       [-3.59338727,  0.88321901],\n",
       "       [-1.60406659,  2.40373662],\n",
       "       [ 1.48668426, -1.40863724],\n",
       "       [ 0.00830468, -2.04898307],\n",
       "       [-0.15646658, -2.80278355],\n",
       "       [-2.39863877,  2.47524175],\n",
       "       [-3.13549157, -0.29421321],\n",
       "       [ 3.30221023,  0.40939296],\n",
       "       [-3.53069904,  1.79971521],\n",
       "       [-0.45566459, -2.61242833],\n",
       "       [-0.58840115, -1.98301934],\n",
       "       [-1.16637216, -0.83784744],\n",
       "       [ 1.03763587, -1.37755233],\n",
       "       [ 1.95890184, -1.62578024],\n",
       "       [ 2.76990407,  1.86073384],\n",
       "       [ 2.06150478,  1.32280528],\n",
       "       [ 0.84107017, -2.00894711],\n",
       "       [ 3.52522122,  1.41880443],\n",
       "       [-3.82504747,  0.11741931],\n",
       "       [ 1.70427554, -0.46267479],\n",
       "       [-3.44482795,  0.89793105],\n",
       "       [ 3.14119715,  0.80251074],\n",
       "       [ 2.34148171,  1.69991384],\n",
       "       [ 1.25162098, -0.91305357],\n",
       "       [ 3.57847538,  1.78146353],\n",
       "       [ 0.93052986, -2.26747372],\n",
       "       [ 0.50457042, -1.9619121 ],\n",
       "       [ 3.82251943,  2.88150786],\n",
       "       [-2.3761711 ,  2.15480504],\n",
       "       [-1.55524357, -1.38425679],\n",
       "       [ 2.51130377,  1.33358811],\n",
       "       [-0.72998664, -0.21814915],\n",
       "       [-0.77183165, -2.39360847],\n",
       "       [ 0.84583296, -1.51455514],\n",
       "       [-1.26515775,  0.04977931],\n",
       "       [ 2.20903303,  0.85715074],\n",
       "       [-3.89082853,  0.54194575],\n",
       "       [-1.8063292 ,  1.31606219],\n",
       "       [ 4.37183355,  2.33594051],\n",
       "       [ 3.31126031,  1.43233851],\n",
       "       [-1.53830238, -1.9287237 ],\n",
       "       [-2.72256164,  2.15319971],\n",
       "       [ 2.81726412,  1.3810016 ],\n",
       "       [ 1.85165682,  0.74908527],\n",
       "       [-0.45023913, -2.16233055],\n",
       "       [-0.10551849, -1.20083745],\n",
       "       [ 1.96348867,  0.21556727],\n",
       "       [ 2.23499535,  1.29680173],\n",
       "       [ 0.81061036,  0.32968368],\n",
       "       [-3.28947263,  2.24576835],\n",
       "       [ 0.92542109, -0.76230572],\n",
       "       [ 2.3186051 , -0.12948205],\n",
       "       [ 0.79856144, -1.42131736],\n",
       "       [-2.27737367,  0.55018386],\n",
       "       [ 3.14731552,  1.31152545],\n",
       "       [-1.73268901, -1.77855936],\n",
       "       [-2.85178367,  0.15732478],\n",
       "       [-2.682777  ,  0.33277815],\n",
       "       [ 1.93435789,  1.6156844 ],\n",
       "       [ 1.61938048, -0.63200211],\n",
       "       [-2.04371299,  0.31389153],\n",
       "       [ 2.25520575,  1.89312658],\n",
       "       [-2.32821566,  0.18612349],\n",
       "       [-0.41435801, -1.98875351],\n",
       "       [ 1.44705447,  0.66672748],\n",
       "       [ 2.19851825,  0.68997732],\n",
       "       [-0.42257991, -1.94397583],\n",
       "       [ 2.76213322,  1.54543423],\n",
       "       [-2.84540302,  1.94250398],\n",
       "       [-1.5915982 , -1.41522865],\n",
       "       [-3.35600644,  1.14127988],\n",
       "       [ 1.67829924,  0.10816612],\n",
       "       [-2.94150833,  0.3885073 ],\n",
       "       [-2.30405629,  2.15027517],\n",
       "       [-3.49291623,  1.29239829],\n",
       "       [ 2.33527547,  0.3435751 ],\n",
       "       [ 1.46219731, -2.05255915],\n",
       "       [-0.43118871, -2.4048574 ],\n",
       "       [ 0.42256584, -1.05544618],\n",
       "       [ 0.52658784, -3.87214144],\n",
       "       [-2.72797263,  1.58306403],\n",
       "       [-3.17868679,  2.71193573],\n",
       "       [-0.62158919, -1.0446325 ],\n",
       "       [-1.40436141, -1.47634167],\n",
       "       [ 0.91169846,  0.65475647],\n",
       "       [ 1.12423581, -1.34653907],\n",
       "       [-2.84547545,  1.32732299],\n",
       "       [-2.36335963,  2.43164111],\n",
       "       [ 2.54578547,  1.85201533],\n",
       "       [ 3.21543609,  1.84137496],\n",
       "       [-2.74703277,  0.19539224],\n",
       "       [-1.05186423, -1.83455849],\n",
       "       [-1.50826783, -0.99164925],\n",
       "       [-0.53471293, -2.50577398],\n",
       "       [ 1.40057023,  0.66105221],\n",
       "       [ 1.10794215,  0.24580628],\n",
       "       [ 2.83487283,  0.95812357],\n",
       "       [-0.52771371, -2.59472825],\n",
       "       [ 0.31128129, -2.28677331],\n",
       "       [-0.06526682, -2.04360861],\n",
       "       [ 2.91835495,  0.82035658],\n",
       "       [-2.40719925,  2.23612256]])"
      ]
     },
     "execution_count": 22,
     "metadata": {},
     "output_type": "execute_result"
    }
   ],
   "source": [
    "X_train_pca = X_train_std.dot(w)\n",
    "X_train_pca"
   ]
  },
  {
   "cell_type": "code",
   "execution_count": 26,
   "id": "1f2c164f",
   "metadata": {},
   "outputs": [
    {
     "data": {
      "image/png": "[encoded data removed]",
      "text/plain": [
       "<Figure size 432x288 with 1 Axes>"
      ]
     },
     "metadata": {
      "needs_background": "light"
     },
     "output_type": "display_data"
    }
   ],
   "source": [
    "colors =  ['r', 'b', 'g']\n",
    "markers = ['s', 'x', 'o']\n",
    "\n",
    "for l, c, m in zip(np.unique(y_train), colors, markers):\n",
    "    plt.scatter(\n",
    "        X_train_pca[y_train==l, 0],\n",
    "        X_train_pca[y_train==l, 1],\n",
    "        c=c, label=l, marker=m\n",
    "    )\n",
    "    \n",
    "\n",
    "plt.xlabel('PC 1')\n",
    "plt.ylabel('PC 2')\n",
    "plt.legend(loc='lower left')\n",
    "plt.show()"
   ]
  },
  {
   "cell_type": "code",
   "execution_count": 28,
   "id": "ae4c32fd",
   "metadata": {},
   "outputs": [
    {
     "name": "stderr",
     "output_type": "stream",
     "text": [
      "*c* argument looks like a single numeric RGB or RGBA sequence, which should be avoided as value-mapping will have precedence in case its length matches with *x* & *y*.  Please use the *color* keyword-argument or provide a 2D array with a single row if you intend to specify the same RGB or RGBA value for all points.\n",
      "*c* argument looks like a single numeric RGB or RGBA sequence, which should be avoided as value-mapping will have precedence in case its length matches with *x* & *y*.  Please use the *color* keyword-argument or provide a 2D array with a single row if you intend to specify the same RGB or RGBA value for all points.\n",
      "*c* argument looks like a single numeric RGB or RGBA sequence, which should be avoided as value-mapping will have precedence in case its length matches with *x* & *y*.  Please use the *color* keyword-argument or provide a 2D array with a single row if you intend to specify the same RGB or RGBA value for all points.\n"
     ]
    },
    {
     "data": {
      "image/png": "[encoded data removed]",
      "text/plain": [
       "<Figure size 432x288 with 1 Axes>"
      ]
     },
     "metadata": {
      "needs_background": "light"
     },
     "output_type": "display_data"
    }
   ],
   "source": [
    "from sklearn.linear_model import LogisticRegression\n",
    "from sklearn.decomposition import PCA\n",
    "\n",
    "pca = PCA(n_components=2)\n",
    "lr = LogisticRegression()\n",
    "X_train_pca = pca.fit_transform(X_train_std)\n",
    "X_test_pca = pca.transform(X_test_std)\n",
    "\n",
    "lr.fit(X_train_pca, y_train)\n",
    "plot_decision_regions(X_train_pca, y_train, classifier=lr)\n",
    "\n",
    "plt.xlabel('PC 1')\n",
    "plt.ylabel('PC 2')\n",
    "plt.legend(loc='lower left')\n",
    "plt.show()"
   ]
  },
  {
   "cell_type": "code",
   "execution_count": 29,
   "id": "77e0961e",
   "metadata": {},
   "outputs": [
    {
     "name": "stderr",
     "output_type": "stream",
     "text": [
      "*c* argument looks like a single numeric RGB or RGBA sequence, which should be avoided as value-mapping will have precedence in case its length matches with *x* & *y*.  Please use the *color* keyword-argument or provide a 2D array with a single row if you intend to specify the same RGB or RGBA value for all points.\n",
      "*c* argument looks like a single numeric RGB or RGBA sequence, which should be avoided as value-mapping will have precedence in case its length matches with *x* & *y*.  Please use the *color* keyword-argument or provide a 2D array with a single row if you intend to specify the same RGB or RGBA value for all points.\n",
      "*c* argument looks like a single numeric RGB or RGBA sequence, which should be avoided as value-mapping will have precedence in case its length matches with *x* & *y*.  Please use the *color* keyword-argument or provide a 2D array with a single row if you intend to specify the same RGB or RGBA value for all points.\n"
     ]
    },
    {
     "data": {
      "image/png": "[encoded data removed]",
      "text/plain": [
       "<Figure size 432x288 with 1 Axes>"
      ]
     },
     "metadata": {
      "needs_background": "light"
     },
     "output_type": "display_data"
    }
   ],
   "source": [
    "plot_decision_regions(X_test_pca,  y_test, classifier=lr)\n",
    "plt.xlabel('PC 1')\n",
    "plt.ylabel('PC 2')\n",
    "plt.legend(loc='lower left')\n",
    "plt.show()"
   ]
  },
  {
   "cell_type": "code",
   "execution_count": 56,
   "id": "9adb9ac1",
   "metadata": {},
   "outputs": [
    {
     "data": {
      "text/plain": [
       "array([0.3733, 0.1882, 0.109 , 0.0772, 0.0648, 0.0459, 0.0399, 0.0252,\n",
       "       0.0226, 0.0183, 0.0164, 0.0128, 0.0064])"
      ]
     },
     "execution_count": 56,
     "metadata": {},
     "output_type": "execute_result"
    }
   ],
   "source": [
    "pca = PCA(n_components=None)\n",
    "X_train_pca = pca.fit_transform(X_train_std)\n",
    "pca.explained_variance_ratio_"
   ]
  },
  {
   "cell_type": "code",
   "execution_count": 57,
   "id": "3ae5103a",
   "metadata": {},
   "outputs": [
    {
     "name": "stdout",
     "output_type": "stream",
     "text": [
      "MV 1: [ 0.9259 -0.3091  0.2592 -0.7989  0.3039  0.9608  1.0515 -0.6306  0.5354\n",
      "  0.2209  0.4855  0.798   1.2017]\n",
      "MV 2: [-0.8727 -0.3854 -0.4437  0.2481 -0.2409 -0.1059  0.0187 -0.0164  0.1095\n",
      " -0.8796  0.4392  0.2776 -0.7016]\n",
      "MV 3: [ 0.1637  0.8929  0.3249  0.5658 -0.01   -0.9499 -1.228   0.7436 -0.7652\n",
      "  0.979  -1.1698 -1.3007 -0.3912]\n"
     ]
    }
   ],
   "source": [
    "#Computing the scatter matrices\n",
    "\n",
    "np.set_printoptions(precision=4)\n",
    "\n",
    "mean_vecs = []\n",
    "\n",
    "for label in range(1, 4):\n",
    "    mean_vecs.append(\n",
    "        np.mean(X_train_std[y_train==label], axis=0)\n",
    "    )\n",
    "    print('MV {}: {}'.format(label, mean_vecs[label-1]))"
   ]
  },
  {
   "cell_type": "code",
   "execution_count": 58,
   "id": "6ec0afb2",
   "metadata": {},
   "outputs": [
    {
     "name": "stdout",
     "output_type": "stream",
     "text": [
      "Within-class scatter matrix: 13x13\n"
     ]
    }
   ],
   "source": [
    "d = 13 # number of features\n",
    "S_W = np.zeros( (d,d) )\n",
    "\n",
    "for label, mv in zip(range(1,4), mean_vecs):\n",
    "    class_scatter = np.zeros( (d,d) )\n",
    "    for row in X[y == label]:\n",
    "        row, mv = row.reshape(d, 1), mv.reshape(d, 1)\n",
    "        class_scatter += (row - mv).dot((row - mv).T)\n",
    "    S_W += class_scatter\n",
    "\n",
    "print('Within-class scatter matrix: {}x{}'.format(\n",
    "    S_W.shape[0], S_W.shape[1]\n",
    "))"
   ]
  },
  {
   "cell_type": "code",
   "execution_count": 59,
   "id": "b8857b4a",
   "metadata": {},
   "outputs": [
    {
     "name": "stdout",
     "output_type": "stream",
     "text": [
      "Class label distribution: [40 49 35]\n"
     ]
    }
   ],
   "source": [
    "print('Class label distribution: {}'.format(np.bincount(y_train)[1:]))"
   ]
  },
  {
   "cell_type": "code",
   "execution_count": 60,
   "id": "4233ef02",
   "metadata": {},
   "outputs": [
    {
     "name": "stdout",
     "output_type": "stream",
     "text": [
      "Scaled within-class scatter matrix: 13x13\n"
     ]
    }
   ],
   "source": [
    "d = 13\n",
    "S_W = np.zeros( (d,d) )\n",
    "for label, mv in zip(range(1,4), mean_vecs):\n",
    "    class_scatter = np.cov(X_train_std[y_train==label].T)\n",
    "    S_W += class_scatter\n",
    "\n",
    "print('Scaled within-class scatter matrix: {}x{}'.format(\n",
    "    S_W.shape[0], S_W.shape[1]\n",
    "))"
   ]
  },
  {
   "cell_type": "code",
   "execution_count": 61,
   "id": "2583e2af",
   "metadata": {},
   "outputs": [
    {
     "name": "stdout",
     "output_type": "stream",
     "text": [
      "Between-class scatter matrix: 13x13\n"
     ]
    }
   ],
   "source": [
    "mean_overall = np.mean(X_train_std, axis=0)\n",
    "d = 13\n",
    "S_B = np.zeros((d,d))\n",
    "\n",
    "for i, mean_vec in enumerate(mean_vecs):\n",
    "    n = X[y==i+1, :].shape[0]\n",
    "    mean_vec = mean_vec.reshape(d, 1)\n",
    "    mean_overall = mean_overall.reshape(d, 1)\n",
    "S_B += n * (mean_vec - mean_overall).dot(\n",
    "    (mean_vec - mean_overall).T\n",
    ")\n",
    "\n",
    "print('Between-class scatter matrix: {}x{}'.format(\n",
    "    S_B.shape[0], S_B.shape[1]\n",
    "))"
   ]
  },
  {
   "cell_type": "code",
   "execution_count": 62,
   "id": "e7764070",
   "metadata": {},
   "outputs": [
    {
     "name": "stdout",
     "output_type": "stream",
     "text": [
      "Eigenvalues in decreasing order:\n",
      "\n",
      "370.01109651149613\n",
      "7.826529008668592e-14\n",
      "3.4027677881242364e-14\n",
      "2.8049009622439003e-14\n",
      "1.113801766537638e-14\n",
      "8.205712869753668e-15\n",
      "8.205712869753668e-15\n",
      "5.4931640554614185e-15\n",
      "3.2465696302172147e-15\n",
      "1.847303739627201e-15\n",
      "1.847303739627201e-15\n",
      "3.003593546531597e-17\n",
      "0.0\n"
     ]
    }
   ],
   "source": [
    "eigen_vals, eigen_vecs = \\\n",
    "np.linalg.eig(np.linalg.inv(S_W).dot(S_B))\n",
    "\n",
    "eigen_pairs = [\n",
    "    (np.abs(eigen_vals[i]), eigen_vecs[:,i])\n",
    "    for i in range(len(eigen_vals))\n",
    "]\n",
    "\n",
    "eigen_pairs = sorted(\n",
    "    eigen_pairs, key=lambda k: k[0],\n",
    "    reverse=True\n",
    ")\n",
    "\n",
    "print('Eigenvalues in decreasing order:\\n')\n",
    "\n",
    "for eigen_val in eigen_pairs:\n",
    "    print(eigen_val[0])"
   ]
  },
  {
   "cell_type": "code",
   "execution_count": 64,
   "id": "cd68d7c5",
   "metadata": {},
   "outputs": [
    {
     "data": {
      "image/png": "[encoded data removed]",
      "text/plain": [
       "<Figure size 432x288 with 1 Axes>"
      ]
     },
     "metadata": {
      "needs_background": "light"
     },
     "output_type": "display_data"
    }
   ],
   "source": [
    "tot = sum(eigen_vals.real)\n",
    "\n",
    "discr = [(i / tot) for i in sorted(eigen_vals.real, reverse=True)]\n",
    "cum_discr = np.cumsum(discr)\n",
    "\n",
    "plt.bar(\n",
    "    range(1,14), discr, alpha=0.5, align='center',\n",
    "    label='individual \"discriminability\"'\n",
    ")\n",
    "plt.step(\n",
    "    range(1,14), cum_discr, where='mid',\n",
    "    label='cumulative \"discriminability\"'\n",
    ")\n",
    "plt.ylabel('\"discriminability\" ratio')\n",
    "plt.ylim([-0.1, 1.1])\n",
    "plt.legend(loc='best')\n",
    "plt.show()"
   ]
  },
  {
   "cell_type": "code",
   "execution_count": 66,
   "id": "2bb83db6",
   "metadata": {},
   "outputs": [
    {
     "name": "stdout",
     "output_type": "stream",
     "text": [
      "Matrix W:\n",
      " [[-0.0102  0.043 ]\n",
      " [-0.0823  0.0951]\n",
      " [-0.0546  0.0931]\n",
      " [-0.122  -0.086 ]\n",
      " [ 0.0062 -0.0681]\n",
      " [-0.2257  0.664 ]\n",
      " [ 0.8044  0.2516]\n",
      " [ 0.0942 -0.2221]\n",
      " [-0.0508  0.1729]\n",
      " [-0.2398  0.1227]\n",
      " [ 0.1122 -0.2456]\n",
      " [ 0.3914 -0.5349]\n",
      " [ 0.2062 -0.153 ]]\n"
     ]
    }
   ],
   "source": [
    "w = np.hstack(\n",
    "    (\n",
    "        eigen_pairs[0][1][:, np.newaxis].real,\n",
    "        eigen_pairs[1][1][:, np.newaxis].real,\n",
    "    )\n",
    ")\n",
    "\n",
    "print('Matrix W:\\n', w)"
   ]
  },
  {
   "cell_type": "code",
   "execution_count": 68,
   "id": "28417355",
   "metadata": {},
   "outputs": [
    {
     "data": {
      "image/png": "[encoded data removed]",
      "text/plain": [
       "<Figure size 432x288 with 1 Axes>"
      ]
     },
     "metadata": {
      "needs_background": "light"
     },
     "output_type": "display_data"
    }
   ],
   "source": [
    "X_train_lda = X_train_std.dot(w)\n",
    "colors = ['r', 'b', 'g']\n",
    "markers = ['s', 'x', 'o']\n",
    "\n",
    "for l, c, m in zip(np.unique(y_train), colors, markers):\n",
    "    plt.scatter(\n",
    "        X_train_lda[y_train==l, 0],\n",
    "        X_train_lda[y_train==l, 1],\n",
    "        c=c, label=l, marker=m\n",
    "    )\n",
    "\n",
    "plt.xlabel('LD 1')\n",
    "plt.ylabel('LD 2')\n",
    "plt.legend(loc='upper right')\n",
    "plt.show()"
   ]
  },
  {
   "cell_type": "code",
   "execution_count": 71,
   "id": "d1ad04f0",
   "metadata": {},
   "outputs": [],
   "source": [
    "# LDA via scikit-learn\n",
    "from sklearn.discriminant_analysis import LinearDiscriminantAnalysis\n",
    "\n",
    "lda = LinearDiscriminantAnalysis(n_components=2)\n",
    "X_train_lda = lda.fit_transform(X_train_std, y_train)"
   ]
  },
  {
   "cell_type": "code",
   "execution_count": 73,
   "id": "616441ba",
   "metadata": {},
   "outputs": [
    {
     "name": "stderr",
     "output_type": "stream",
     "text": [
      "*c* argument looks like a single numeric RGB or RGBA sequence, which should be avoided as value-mapping will have precedence in case its length matches with *x* & *y*.  Please use the *color* keyword-argument or provide a 2D array with a single row if you intend to specify the same RGB or RGBA value for all points.\n",
      "*c* argument looks like a single numeric RGB or RGBA sequence, which should be avoided as value-mapping will have precedence in case its length matches with *x* & *y*.  Please use the *color* keyword-argument or provide a 2D array with a single row if you intend to specify the same RGB or RGBA value for all points.\n",
      "*c* argument looks like a single numeric RGB or RGBA sequence, which should be avoided as value-mapping will have precedence in case its length matches with *x* & *y*.  Please use the *color* keyword-argument or provide a 2D array with a single row if you intend to specify the same RGB or RGBA value for all points.\n"
     ]
    },
    {
     "data": {
      "image/png": "[encoded data removed]",
      "text/plain": [
       "<Figure size 432x288 with 1 Axes>"
      ]
     },
     "metadata": {
      "needs_background": "light"
     },
     "output_type": "display_data"
    }
   ],
   "source": [
    "lr = LogisticRegression()\n",
    "lr = lr.fit(X_train_lda, y_train)\n",
    "plot_decision_regions(X_train_lda, y_train, classifier=lr)\n",
    "\n",
    "\n",
    "plt.xlabel('LD 1')\n",
    "plt.ylabel('LD 2')\n",
    "plt.legend(loc='lower left')\n",
    "plt.show()"
   ]
  },
  {
   "cell_type": "code",
   "execution_count": 75,
   "id": "06c59c3d",
   "metadata": {},
   "outputs": [
    {
     "name": "stderr",
     "output_type": "stream",
     "text": [
      "*c* argument looks like a single numeric RGB or RGBA sequence, which should be avoided as value-mapping will have precedence in case its length matches with *x* & *y*.  Please use the *color* keyword-argument or provide a 2D array with a single row if you intend to specify the same RGB or RGBA value for all points.\n",
      "*c* argument looks like a single numeric RGB or RGBA sequence, which should be avoided as value-mapping will have precedence in case its length matches with *x* & *y*.  Please use the *color* keyword-argument or provide a 2D array with a single row if you intend to specify the same RGB or RGBA value for all points.\n",
      "*c* argument looks like a single numeric RGB or RGBA sequence, which should be avoided as value-mapping will have precedence in case its length matches with *x* & *y*.  Please use the *color* keyword-argument or provide a 2D array with a single row if you intend to specify the same RGB or RGBA value for all points.\n"
     ]
    },
    {
     "data": {
      "image/png": "[encoded data removed]",
      "text/plain": [
       "<Figure size 432x288 with 1 Axes>"
      ]
     },
     "metadata": {
      "needs_background": "light"
     },
     "output_type": "display_data"
    }
   ],
   "source": [
    "X_test_lda = lda.transform(X_test_std)\n",
    "\n",
    "plot_decision_regions(X_test_lda, y_test, classifier=lr)\n",
    "\n",
    "\n",
    "plt.xlabel('LD 1')\n",
    "plt.ylabel('LD 2')\n",
    "plt.legend(loc='lower left')\n",
    "plt.show()"
   ]
  },
  {
   "cell_type": "code",
   "execution_count": null,
   "id": "e35a3f2e",
   "metadata": {},
   "outputs": [],
   "source": []
  }
 ],
 "metadata": {
  "kernelspec": {
   "display_name": "Python 3 (ipykernel)",
   "language": "python",
   "name": "python3"
  },
  "language_info": {
   "codemirror_mode": {
    "name": "ipython",
    "version": 3
   },
   "file_extension": ".py",
   "mimetype": "text/x-python",
   "name": "python",
   "nbconvert_exporter": "python",
   "pygments_lexer": "ipython3",
   "version": "3.10.2"
  }
 },
 "nbformat": 4,
 "nbformat_minor": 5
}
